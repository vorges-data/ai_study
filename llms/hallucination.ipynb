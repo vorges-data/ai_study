{
 "cells": [
  {
   "cell_type": "markdown",
   "metadata": {},
   "source": [
    "### Por que ocorrem alucinações?\n",
    "\n",
    "1. **Conhecimento Limitado:** O modelo é treinado em um conjunto de dados fixo e pode não ter informações atualizadas ou precisas sobre todos os tópicos.\n",
    "\n",
    "2. **Generalização Excessiva:** O modelo aprende padrões gerais de linguagem e pode aplicá-los de forma inadequada, criando afirmações que parecem plausíveis, mas são incorretas.\n",
    "\n",
    "3. **Falta de Compreensão Real:** Modelos de linguagem não têm uma compreensão profunda do mundo; eles apenas preveem a próxima palavra com base em padrões estatísticos.\n",
    "\n",
    "4. **Viés nos Dados de Treinamento:** Se os dados de treinamento contêm informações incorretas ou tendenciosas, o modelo pode reproduzir esses erros.\n",
    "\n",
    "5. **Aleatoriedade na Geração:** O uso de amostragem aleatória (como `do_sample=True` e `temperature=0.7`) pode levar a saídas imprevisíveis e potencialmente incorretas.\n",
    "\n",
    "6. **Falta de Verificação de Fatos:** O modelo não tem capacidade de verificar a veracidade das informações que gera.\n",
    "\n",
    "7. **Contexto Limitado:** O modelo considera apenas um contexto limitado (neste caso, até 100 tokens) ao gerar texto, o que pode levar a inconsistências em textos mais longos.\n",
    "\n",
    "### Conclusão\n",
    "\n",
    "Este exemplo ilustra como modelos de linguagem podem gerar informações que parecem plausíveis, mas podem ser completamente inventadas ou incorretas. Isso destaca a importância de usar esses modelos com cautela, especialmente em aplicações que requerem precisão factual.\n",
    "\n",
    "Ao executar o script, observe como as respostas geradas podem conter informações incorretas ou inventadas, mesmo parecendo convincentes à primeira vista."
   ]
  },
  {
   "cell_type": "code",
   "execution_count": 3,
   "metadata": {},
   "outputs": [
    {
     "name": "stderr",
     "output_type": "stream",
     "text": [
      "The attention mask and the pad token id were not set. As a consequence, you may observe unexpected behavior. Please pass your input's `attention_mask` to obtain reliable results.\n",
      "Setting `pad_token_id` to `eos_token_id`:50256 for open-end generation.\n",
      "The attention mask and the pad token id were not set. As a consequence, you may observe unexpected behavior. Please pass your input's `attention_mask` to obtain reliable results.\n",
      "Setting `pad_token_id` to `eos_token_id`:50256 for open-end generation.\n"
     ]
    },
    {
     "name": "stdout",
     "output_type": "stream",
     "text": [
      "Prompt: O Brasil é famoso por sua culinária, especialmente o prato nacional chamado\n",
      "Generated Text: O Brasil é famoso por sua culinária, especialmente o prato nacional chamado de la vida, nada nombre en español.\n",
      "\n",
      "(9) It is unlawful for a person to bring any narcotic substance into the country to which he belongs for any purpose other than to transport it to a place where it is to be transported. (10) No person shall bring into any country any drug that is\n",
      "\n",
      "==================================================\n",
      "\n"
     ]
    },
    {
     "name": "stderr",
     "output_type": "stream",
     "text": [
      "The attention mask and the pad token id were not set. As a consequence, you may observe unexpected behavior. Please pass your input's `attention_mask` to obtain reliable results.\n",
      "Setting `pad_token_id` to `eos_token_id`:50256 for open-end generation.\n"
     ]
    },
    {
     "name": "stdout",
     "output_type": "stream",
     "text": [
      "Prompt: A capital do Brasil é Brasília, que foi fundada em\n",
      "Generated Text: A capital do Brasil é Brasília, que foi fundada em el á la vida: el tenido, a la conseguir a tenía, se está en una día de la nueva.\n",
      "\n",
      "El é que ha sido de los serántos de no todo. No se más que que nos estos es hacenos, nacional de uno teni, no se hace a los\n",
      "\n",
      "==================================================\n",
      "\n"
     ]
    },
    {
     "name": "stderr",
     "output_type": "stream",
     "text": [
      "The attention mask and the pad token id were not set. As a consequence, you may observe unexpected behavior. Please pass your input's `attention_mask` to obtain reliable results.\n",
      "Setting `pad_token_id` to `eos_token_id`:50256 for open-end generation.\n"
     ]
    },
    {
     "name": "stdout",
     "output_type": "stream",
     "text": [
      "Prompt: O animal símbolo do Brasil é o\n",
      "Generated Text: O animal símbolo do Brasil é o cesos una vivos de río.\n",
      "\n",
      "Días de lo que uno ella siempre, un ello sólo a un pueblo a lo lo. La seguro de este muy eso que no tres más que de la baja de rojos a la seguido. O el viejo a no muezzo, en este\n",
      "\n",
      "==================================================\n",
      "\n"
     ]
    },
    {
     "name": "stderr",
     "output_type": "stream",
     "text": [
      "The attention mask and the pad token id were not set. As a consequence, you may observe unexpected behavior. Please pass your input's `attention_mask` to obtain reliable results.\n",
      "Setting `pad_token_id` to `eos_token_id`:50256 for open-end generation.\n"
     ]
    },
    {
     "name": "stdout",
     "output_type": "stream",
     "text": [
      "Prompt: A Amazônia é conhecida por sua biodiversidade, incluindo espécies únicas como\n",
      "Generated Text: A Amazônia é conhecida por sua biodiversidade, incluindo espécies únicas como tenido, se diferentes comos aosos, años comasas.\n",
      "\n",
      "The people are still in their graves. They are afraid of death. The people fear death as much as they fear God. God wants the people to die. He wants them to do things that are not right. And they die\n",
      "\n",
      "==================================================\n",
      "\n"
     ]
    },
    {
     "name": "stderr",
     "output_type": "stream",
     "text": [
      "The attention mask and the pad token id were not set. As a consequence, you may observe unexpected behavior. Please pass your input's `attention_mask` to obtain reliable results.\n",
      "Setting `pad_token_id` to `eos_token_id`:50256 for open-end generation.\n"
     ]
    },
    {
     "name": "stdout",
     "output_type": "stream",
     "text": [
      "Prompt: O Corinthians é um time de futebol da cidade de São Paulo, que foi fundado em\n",
      "Generated Text: O Corinthians é um time de futebol da cidade de São Paulo, que foi fundado em que fuego.\n",
      "\n",
      "São Paul da Cidades, v. 1, p. 6.\n",
      "\n",
      "\n",
      "The Portuguese government is not responsible for any of the alleged violations of this ordinance, and it has not been given any judicial authority over the matter. It has been a matter of great concern for the Brazilian people. The Brazilian government has expressed its concern over this\n",
      "\n",
      "==================================================\n",
      "\n"
     ]
    },
    {
     "name": "stderr",
     "output_type": "stream",
     "text": [
      "The attention mask and the pad token id were not set. As a consequence, you may observe unexpected behavior. Please pass your input's `attention_mask` to obtain reliable results.\n",
      "Setting `pad_token_id` to `eos_token_id`:50256 for open-end generation.\n"
     ]
    },
    {
     "name": "stdout",
     "output_type": "stream",
     "text": [
      "Prompt: A música popular brasileira é conhecida por\n",
      "Generated Text: A música popular brasileira é conhecida porque tama el muy, puede, por que todos estas de la pática de pública.\n",
      "\n",
      "For more information about puerto brasiles, visit pua.org or call (888) 964-8683.\n",
      "\n",
      "==================================================\n",
      "\n",
      "Prompt: O presidente do Brasil atual é\n",
      "Generated Text: O presidente do Brasil atual épon de la vie de Paris de l'École (2015).\n",
      "\n",
      "The goal of this post is to provide a summary of the findings of a study, entitled 'What is the most important factor in the success of Brazilian football in Brazil?' The results of that study are presented in two parts: first, an analysis of football performance by both clubs, and second, a detailed analysis on the socio-economic and economic aspects of Brazil\n",
      "\n",
      "==================================================\n",
      "\n"
     ]
    }
   ],
   "source": [
    "import torch\n",
    "from transformers import GPT2LMHeadModel, GPT2Tokenizer\n",
    "\n",
    "# Load the model and tokenizer\n",
    "tokenizer = GPT2Tokenizer.from_pretrained('gpt2')\n",
    "model = GPT2LMHeadModel.from_pretrained('gpt2')\n",
    "\n",
    "\n",
    "def generate_text(prompt, max_length=100):\n",
    "    input_ids = tokenizer.encode(prompt, return_tensors='pt')\n",
    "    output = model.generate(input_ids, max_length=max_length, num_return_sequences=1, \n",
    "                            no_repeat_ngram_size=2, top_k=50, top_p=0.95, temperature=0.7, do_sample=True)\n",
    "    return tokenizer.decode(output[0], skip_special_tokens=True)\n",
    "\n",
    "\n",
    "# Prompts Examples\n",
    "prompts = [\n",
    "    \"O Brasil é famoso por sua culinária, especialmente o prato nacional chamado\",\n",
    "    \"A capital do Brasil é Brasília, que foi fundada em\",\n",
    "    \"O animal símbolo do Brasil é o\",\n",
    "    \"A Amazônia é conhecida por sua biodiversidade, incluindo espécies únicas como\",\n",
    "    \"O Corinthians é um time de futebol da cidade de São Paulo, que foi fundado em\",\n",
    "    \"A música popular brasileira é conhecida por\",\n",
    "    \"O presidente do Brasil atual é\",\n",
    "]\n",
    "\n",
    "# Generate text for each prompt\n",
    "for prompt in prompts:\n",
    "    generated_text = generate_text(prompt)\n",
    "    print(f\"Prompt: {prompt}\")\n",
    "    print(f\"Generated Text: {generated_text}\")\n",
    "    print(\"\\n\" + \"=\"*50 + \"\\n\")"
   ]
  },
  {
   "cell_type": "markdown",
   "metadata": {},
   "source": [
    "Análise de Alucinações em Modelos de Linguagem e Técnicas de Mitigação\n",
    "Análise das Alucinações Geradas\n",
    "1. Prato nacional brasileiro\n",
    "O modelo gerou uma mistura de espanhol e palavras sem sentido, sem mencionar nenhum prato brasileiro real.\n",
    "2. Fundação de Brasília\n",
    "O modelo não forneceu uma data específica e misturou espanhol com inglês, sem oferecer informações factuais corretas.\n",
    "3. Animal símbolo do Brasil\n",
    "O modelo não identificou nenhum animal específico e gerou uma sequência de palavras sem sentido, misturando português e espanhol.\n",
    "4. Espécies únicas da Amazônia\n",
    "O modelo não mencionou nenhuma espécie real e produziu uma mistura de palavras em português e italiano, sem conteúdo factual.\n",
    "Problemas Identificados\n",
    "Mistura de idiomas (português, espanhol, inglês, italiano)\n",
    "Falta de conhecimento específico sobre o Brasil\n",
    "Geração de palavras sem sentido ou inexistentes\n",
    "Incapacidade de fornecer informações factuais precisas\n",
    "Técnicas para Evitar ou Mitigar Alucinações\n",
    "Fine-tuning com Dados Específicos\n",
    "\n",
    "Treinar o modelo com dados específicos e precisos sobre o Brasil pode melhorar a qualidade das respostas.\n",
    "Retrieval-Augmented Generation (RAG)\n",
    "\n",
    "Combinar o modelo de linguagem com uma base de conhecimento externa para fornecer informações factuais precisas.\n",
    "Controle de Temperatura\n",
    "\n",
    "Reduzir a temperatura (por exemplo, para 0.3-0.5) pode tornar as respostas mais conservadoras e menos propensas a alucinações.\n",
    "Uso de Prompts mais Específicos\n",
    "\n",
    "Fornecer mais contexto no prompt pode ajudar o modelo a gerar respostas mais precisas.\n",
    "Pós-processamento e Filtragem\n",
    "\n",
    "Implementar verificações para filtrar respostas que misturam idiomas ou contêm palavras sem sentido.\n",
    "Modelos Multilíngues\n",
    "\n",
    "Usar modelos treinados especificamente em português ou modelos multilíngues pode reduzir a mistura de idiomas.\n",
    "Fact-Checking Automático\n",
    "\n",
    "Implementar um sistema que verifica as informações geradas contra uma base de dados confiável.\n",
    "Limitação de Tokens\n",
    "\n",
    "Restringir o número de tokens gerados pode reduzir a chance de o modelo divagar e produzir conteúdo irrelevante.\n",
    "Uso de Técnicas de Few-Shot Learning\n",
    "\n",
    "Fornecer exemplos de respostas corretas no prompt pode guiar o modelo a gerar respostas mais precisas.\n",
    "Modelos Especializados\n",
    "\n",
    "Para tópicos específicos, como informações sobre o Brasil, considerar o uso de modelos treinados especificamente nesse domínio.\n",
    "Implementar uma combinação dessas técnicas pode ajudar significativamente a reduzir alucinações e melhorar a precisão das respostas geradas pelo modelo."
   ]
  }
 ],
 "metadata": {
  "kernelspec": {
   "display_name": "Python 3.11 (LLMS)",
   "language": "python",
   "name": "llms-py3.11"
  },
  "language_info": {
   "codemirror_mode": {
    "name": "ipython",
    "version": 3
   },
   "file_extension": ".py",
   "mimetype": "text/x-python",
   "name": "python",
   "nbconvert_exporter": "python",
   "pygments_lexer": "ipython3",
   "version": "3.11.13"
  }
 },
 "nbformat": 4,
 "nbformat_minor": 2
}
